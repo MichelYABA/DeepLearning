{
  "nbformat": 4,
  "nbformat_minor": 0,
  "metadata": {
    "kernelspec": {
      "display_name": "Python 3",
      "language": "python",
      "name": "python3"
    },
    "language_info": {
      "codemirror_mode": {
        "name": "ipython",
        "version": 3
      },
      "file_extension": ".py",
      "mimetype": "text/x-python",
      "name": "python",
      "nbconvert_exporter": "python",
      "pygments_lexer": "ipython3",
      "version": "3.7.7"
    },
    "colab": {
      "name": "TP6 Deep Learning - Deep SOM .ipynb",
      "provenance": [],
      "collapsed_sections": []
    }
  },
  "cells": [
    {
      "cell_type": "code",
      "metadata": {
        "colab": {
          "base_uri": "https://localhost:8080/"
        },
        "id": "3mPyL7EGSqEe",
        "outputId": "946f56cd-81c1-4cd8-afb3-46c7791ee667"
      },
      "source": [
        "from google.colab import drive\n",
        "drive.mount('/content/gdrive')"
      ],
      "execution_count": null,
      "outputs": [
        {
          "output_type": "stream",
          "text": [
            "Mounted at /content/gdrive\n"
          ],
          "name": "stdout"
        }
      ]
    },
    {
      "cell_type": "code",
      "metadata": {
        "colab": {
          "base_uri": "https://localhost:8080/"
        },
        "id": "UkshlyeBS1Mt",
        "outputId": "97915a55-103c-4504-87ff-df59403c30e2"
      },
      "source": [
        "%cd gdrive/My Drive/tpsDeepLearning/"
      ],
      "execution_count": null,
      "outputs": [
        {
          "output_type": "stream",
          "text": [
            "/content/gdrive/My Drive/tpsDeepLearning\n"
          ],
          "name": "stdout"
        }
      ]
    },
    {
      "cell_type": "markdown",
      "metadata": {
        "id": "wNc9xtonwxsf"
      },
      "source": [
        "### Deep Self-Organizing Map (DeepSOM)\n",
        "\n",
        "L'objectif de ce TP est de créer et manipuler un Deep Self-Organizing Map (DeepSOM) afin d'apprendre une nouvelle représentation des données qui met en valeur leurs similarités.\n",
        "\n",
        "\n",
        "###### 1. Importation des librairies "
      ]
    },
    {
      "cell_type": "code",
      "metadata": {
        "id": "_0LL0sM8wxsj"
      },
      "source": [
        "from scipy.spatial.distance import euclidean\n",
        "from sklearn.metrics.pairwise import euclidean_distances\n",
        "from sklearn.decomposition import PCA\n",
        "from sklearn import datasets    \n",
        "import numpy as np\n",
        "import matplotlib.pyplot as plt\n",
        "from pylab import bone, pcolor, colorbar, plot, show"
      ],
      "execution_count": 21,
      "outputs": []
    },
    {
      "cell_type": "markdown",
      "metadata": {
        "id": "QMHNMXHfwxsk"
      },
      "source": [
        "###### 2. Classe décrivant l'initialisation et l'apprentissage d'une SOM probabiliste\n",
        "\n",
        "Lisez attentivement ce code et vérifiez que vous ayez bien compris les différentes étapes de l'initialisation et de l'apprentissage."
      ]
    },
    {
      "cell_type": "code",
      "metadata": {
        "id": "4wvJU762wxsm"
      },
      "source": [
        "class PrSOM: # Une couche de SOM probabiliste\n",
        "    def __init__(self, data, shape):\n",
        "        self.shape = shape\n",
        "        self.N, self.dim = data.shape\n",
        "        self.data = data\n",
        "     \n",
        "        # Initialisation des prototypes selon les axes de l'ACP\n",
        "        self.pca = PCA().fit(self.data) \n",
        "        var = self.pca.transform(data).std(axis = 0)[0:2]\n",
        "        rangex = np.arange(-var[0],var[0],var[0]*2/self.shape[0])\n",
        "        if len(rangex)>self.shape[0]:\n",
        "            rangex = rangex[:-1]\n",
        "        rangey = np.arange(-var[1],var[1],var[1]*2/self.shape[1])\n",
        "        if len(rangey)>self.shape[1]:\n",
        "            rangey = rangey[:-1]  \n",
        "        self.W = []\n",
        "        for x in rangex:\n",
        "            for y in rangey:\n",
        "                self.W.append([x,y])\n",
        "        self.W = np.hstack((np.array(self.W), np.zeros((len(self.W),self.dim-2))))\n",
        "        self.W =self.pca.inverse_transform(self.W[:,:self.pca.components_.shape[0]])\n",
        "        if np.sum(self.data) == self.N:\n",
        "            self.W[self.W<0]=0\n",
        "        \n",
        "        # Initialization des temperatures (radius de voisinage)\n",
        "        self.s0 = max(1,max(self.shape)/4)\n",
        "        self.sf = 1\n",
        "        self.s = self.s0\n",
        "\n",
        "        # Initialization de beta\n",
        "        d = self.dist(self.W,self.W)\n",
        "        d[d==0] = 'NaN'\n",
        "        self.beta = 1/(np.max(np.nanmin(d,axis=0))**2)\n",
        "\n",
        "        # Nombre de neurones\n",
        "        self.nb_neuron = int(np.product(self.shape))        \n",
        "        \n",
        "        # Coordonnée des neurones\n",
        "        self.coord = []\n",
        "        for i in range(self.shape[0]):\n",
        "            for j in range(self.shape[1]):\n",
        "                self.coord.append([(i,j)])\n",
        "        \n",
        "        # Distance euclidienne entre les prototypes de la première couche\n",
        "        self.distmat = np.zeros((self.nb_neuron, self.nb_neuron))      \n",
        "        for n in range(self.nb_neuron):\n",
        "            for m in range(self.nb_neuron):\n",
        "                self.distmat[n,m] = euclidean(self.coord[n],self.coord[m])\n",
        "\n",
        "        # Initialization de la matrice P de probabilité entre chaque donnée et chaque neurone\n",
        "        self.P = np.zeros((self.N, self.nb_neuron))+1/self.nb_neuron\n",
        "        \n",
        "        # Initialization de la matrice q de probabilité à priori pour chaque neurone\n",
        "        self.q = np.zeros(self.nb_neuron)+1/self.nb_neuron\n",
        "        \n",
        "     \n",
        "    def Kij(self, T): # Calcul de la fonction de voisinage\n",
        "        self.s = self.s0*(self.sf/self.s0)**(T/self.Tmax)\n",
        "        \n",
        "        if self.s>0:\n",
        "            return np.exp(-self.distmat**2/(2*self.s**2))\n",
        "        else:\n",
        "            return np.identity(self.nb_neuron)\n",
        "        \n",
        "        \n",
        "    def train(self,Tmax): #Apprentissage\n",
        "        self.Tmax = Tmax\n",
        "        \n",
        "        for T in range(Tmax):\n",
        "            # Calcul de K, la fonction de voisinage\n",
        "            self.K = self.Kij(T)\n",
        "            \n",
        "            # Affectation des données aux neurones (calcul de P)\n",
        "            self.assign(self.data)\n",
        "            \n",
        "            # Mise à jours de prototypes (calcul de W)\n",
        "            self.update()\n",
        "\n",
        "    \n",
        "    def dist(self, X1, X2):  # Calcul des distances \n",
        "        if np.sum(self.data) == self.N:\n",
        "            return 1/np.sqrt(2)*euclidean_distances(np.sqrt(X1), np.sqrt(X2)) ## Hellinger pour probabilités\n",
        "        else:\n",
        "            return euclidean_distances(X1, X2)  ## Euclidienne pour vecteurs (première couche)\n",
        "            \n",
        "        \n",
        "    def assign(self, X):  ## Calcul de la matrice P de probabilité entre chaque donnée et chaque neurone \n",
        "        # Distance entre les données et les prototypes\n",
        "        self.Dxw = 1/2*self.dist(X, self.W)**2\n",
        "        \n",
        "        # Création de la matrice Q\n",
        "        Q = np.tile(self.q,(self.N,1)).T \n",
        "        \n",
        "        # Calcul de P\n",
        "        self.P = Q * np.dot(self.K,np.exp(-self.beta*self.Dxw.T)) \n",
        "        norm = np.tile(np.sum(self.P, axis=0),(self.nb_neuron,1))+1e-16\n",
        "        self.P = self.P / norm       \n",
        "        \n",
        "        return self.P\n",
        "\n",
        "\n",
        "    def update(self): ## Calcul de W, la matrice des prototypes\n",
        "        # Calcul de P * K\n",
        "        KP = np.dot(self.K,self.P)\n",
        "    \n",
        "        #calcul de W\n",
        "        norm = np.tile(np.sum(KP, axis=1),(self.dim,1)).T\n",
        "        self.W = np.dot(KP,self.data) / norm\n",
        "    \n",
        "    \n",
        "    def Poutput(self): # Calcul et mise en forme de la sortie des couches\n",
        "    \n",
        "        mask = self.shape\n",
        "        P = self.assign(self.data).T\n",
        "        self.out = []\n",
        "\n",
        "        for p in P:\n",
        "            pmat = p.reshape(mask)                            \n",
        "            self.out.append(pmat.reshape((1,mask[0]*mask[1]))[0])\n",
        "            \n",
        "        self.out = np.array(self.out)\n",
        "        \n",
        "        return (self.out)"
      ],
      "execution_count": 17,
      "outputs": []
    },
    {
      "cell_type": "markdown",
      "metadata": {
        "id": "mi6CqkIFwxsp"
      },
      "source": [
        "###### 3. Classe décrivant l'initialisation et l'apprentissage de DeepSOM\n",
        "\n",
        "Créez une classe permettant l'apprentissage de toutes les couches de la DeepSOM à partir d'un ensemble de données d'apprentissage.\n",
        "\n",
        "Faites attention aux points suivants :\n",
        " - Il faut définit les dimentions (shape) de la carte de la première couche.\n",
        " - La taille de la carte diminue de 2 lignes et 2 colonnes pour chaque couche sucessive, avec des dimientions minimale de 4x4.\n",
        " - L'apprentisage prends comme argument un nombre d'itérations.\n",
        " - Les differentes couches sont stockées dans une liste. "
      ]
    },
    {
      "cell_type": "code",
      "metadata": {
        "id": "0dKkIhZNwxsr"
      },
      "source": [
        "class DeepSOM:\n",
        "    def __init__(self, data, N_layers, shape):\n",
        "        self.data = data\n",
        "        self.N_layers = N_layers\n",
        "        self.shape = shape\n",
        "        self.out = []    # initialisation de la sortie\n",
        "    \n",
        "    \n",
        "    def train(self, Tmax):\n",
        "        X = self.data\n",
        "        self.layers = [] #liste des couches\n",
        "        \n",
        "        # Pour chaque couche :\n",
        "        for i in range(self.N_layers): \n",
        "            \n",
        "            # Mise à jour la taille de la carte \n",
        "            self.shape = X.shape\n",
        "            \n",
        "            # Initialisation de la couche\n",
        "            self.som = PrSOM(X, self.shape)\n",
        "            \n",
        "            # Apprentissage de la couche\n",
        "            self.som.train(Tmax)\n",
        "            \n",
        "            # Calcul de la sortie de la couche\n",
        "            self.out_layer = self.som.Poutput()\n",
        "            \n",
        "            # Mise en mémoire de la couche\n",
        "            self.layers.append(self.out_layer)\n",
        "        \n",
        "        self.out = X\n",
        "        #return self.layers,  self.out"
      ],
      "execution_count": 37,
      "outputs": []
    },
    {
      "cell_type": "markdown",
      "metadata": {
        "id": "96Eqkuqywxss"
      },
      "source": [
        "###### 4. Application de la DeepSOM sur des jeux de données \n",
        "\n",
        " 1. Chargez des données en utilisant 'dataset' de la librairie sklearn (par exemple les données 'iris'). \n",
        " 2. Lancez l'apprentissage de DeepSOM sur ces données.\n",
        " 3. Affichez le score de chaque couche, défini comme la moyenne du rapport entre la plus petite et la plus grande distance de chaque donnée avec les autres données ( => mean(dist_min/dist_max)). Vérifiez que le score décroît de la première couche à la dernière.\n",
        " 4. Visualisez la sortie du réseau avec 'imshow', avec triant les données selon leurs classes; afin de vérifier que les données d'une même classe ont une représentation identique. Utilisez une \n",
        " \n",
        "Testez l'algorithme sur différents jeux de données, en faisant varier les paramètres (nombre de couches, dimensions de la carte de la première couche) afin d'obtenir les meilleurs résultats.  \n"
      ]
    },
    {
      "cell_type": "code",
      "metadata": {
        "id": "Rp-S_CwRlOem"
      },
      "source": [
        "from sklearn.datasets import load_iris\n",
        "from sklearn import preprocessing\n",
        "from sklearn.model_selection import train_test_split"
      ],
      "execution_count": 19,
      "outputs": []
    },
    {
      "cell_type": "code",
      "metadata": {
        "id": "ILrlvI18AO7m"
      },
      "source": [
        "# Chargement des données\n",
        "\"\"\" A COMPLETER \"\"\"\n",
        "iris = load_iris()\n",
        "X = iris.data\n",
        "y = iris.target\n",
        "# normalisation des données\n",
        "normalized_X = preprocessing.normalize(X)\n",
        "\n",
        "# Séparation des données en test et entrainement\n",
        "X_train, X_test, y_train, y_test = train_test_split(normalized_X, y, test_size = 0.2, random_state = 0)"
      ],
      "execution_count": 23,
      "outputs": []
    },
    {
      "cell_type": "code",
      "metadata": {
        "colab": {
          "base_uri": "https://localhost:8080/"
        },
        "id": "jX_iP3GuBKX4",
        "outputId": "0497b833-4f1a-4292-b346-fbfdf4cf088a"
      },
      "source": [
        "X_train.shape"
      ],
      "execution_count": 30,
      "outputs": [
        {
          "output_type": "execute_result",
          "data": {
            "text/plain": [
              "(120, 4)"
            ]
          },
          "metadata": {
            "tags": []
          },
          "execution_count": 30
        }
      ]
    },
    {
      "cell_type": "code",
      "metadata": {
        "id": "BxceHIn8ATmJ"
      },
      "source": [
        "# Création de la DeepSOM\n",
        "\"\"\" A COMPLETER \"\"\"\n",
        "data = X_train\n",
        "nb_layers = 10\n",
        "#shape = (a,b)\n",
        "shape = X_train.shape\n",
        "S = DeepSOM(data, nb_layers, shape)"
      ],
      "execution_count": 25,
      "outputs": []
    },
    {
      "cell_type": "code",
      "metadata": {
        "colab": {
          "base_uri": "https://localhost:8080/"
        },
        "id": "u1wwJwiTAkH0",
        "outputId": "0fc480de-db42-4f5e-9c0b-ed37955eb9a0"
      },
      "source": [
        "# Apprentissage de la DeepSOM\n",
        "\"\"\" A COMPLETER \"\"\"\n",
        "Tmax = 100\n",
        "S.train(Tmax)"
      ],
      "execution_count": 38,
      "outputs": [
        {
          "output_type": "execute_result",
          "data": {
            "text/plain": [
              "([array([[3.22632934e-043, 4.32543188e-043, 4.32543188e-043, ...,\n",
              "          9.60010314e-224, 9.60010310e-224, 7.16069401e-224],\n",
              "         [1.85991101e-125, 2.49352028e-125, 2.49351997e-125, ...,\n",
              "          1.15423897e-191, 1.15423897e-191, 8.60944096e-192],\n",
              "         [0.00000000e+000, 0.00000000e+000, 0.00000000e+000, ...,\n",
              "          0.00000000e+000, 0.00000000e+000, 0.00000000e+000],\n",
              "         ...,\n",
              "         [3.55729275e-218, 4.76914373e-218, 4.76914407e-218, ...,\n",
              "          4.50609960e-027, 4.50609960e-027, 3.36108896e-027],\n",
              "         [4.60828115e-052, 6.17816847e-052, 6.17816847e-052, ...,\n",
              "          1.93402896e-243, 1.93402896e-243, 1.44258760e-243],\n",
              "         [0.00000000e+000, 0.00000000e+000, 0.00000000e+000, ...,\n",
              "          0.00000000e+000, 0.00000000e+000, 0.00000000e+000]]),\n",
              "  array([[3.22632934e-043, 4.32543188e-043, 4.32543188e-043, ...,\n",
              "          9.60010314e-224, 9.60010310e-224, 7.16069401e-224],\n",
              "         [1.85991101e-125, 2.49352028e-125, 2.49351997e-125, ...,\n",
              "          1.15423897e-191, 1.15423897e-191, 8.60944096e-192],\n",
              "         [0.00000000e+000, 0.00000000e+000, 0.00000000e+000, ...,\n",
              "          0.00000000e+000, 0.00000000e+000, 0.00000000e+000],\n",
              "         ...,\n",
              "         [3.55729275e-218, 4.76914373e-218, 4.76914407e-218, ...,\n",
              "          4.50609960e-027, 4.50609960e-027, 3.36108896e-027],\n",
              "         [4.60828115e-052, 6.17816847e-052, 6.17816847e-052, ...,\n",
              "          1.93402896e-243, 1.93402896e-243, 1.44258760e-243],\n",
              "         [0.00000000e+000, 0.00000000e+000, 0.00000000e+000, ...,\n",
              "          0.00000000e+000, 0.00000000e+000, 0.00000000e+000]]),\n",
              "  array([[3.22632934e-043, 4.32543188e-043, 4.32543188e-043, ...,\n",
              "          9.60010314e-224, 9.60010310e-224, 7.16069401e-224],\n",
              "         [1.85991101e-125, 2.49352028e-125, 2.49351997e-125, ...,\n",
              "          1.15423897e-191, 1.15423897e-191, 8.60944096e-192],\n",
              "         [0.00000000e+000, 0.00000000e+000, 0.00000000e+000, ...,\n",
              "          0.00000000e+000, 0.00000000e+000, 0.00000000e+000],\n",
              "         ...,\n",
              "         [3.55729275e-218, 4.76914373e-218, 4.76914407e-218, ...,\n",
              "          4.50609960e-027, 4.50609960e-027, 3.36108896e-027],\n",
              "         [4.60828115e-052, 6.17816847e-052, 6.17816847e-052, ...,\n",
              "          1.93402896e-243, 1.93402896e-243, 1.44258760e-243],\n",
              "         [0.00000000e+000, 0.00000000e+000, 0.00000000e+000, ...,\n",
              "          0.00000000e+000, 0.00000000e+000, 0.00000000e+000]]),\n",
              "  array([[3.22632934e-043, 4.32543188e-043, 4.32543188e-043, ...,\n",
              "          9.60010314e-224, 9.60010310e-224, 7.16069401e-224],\n",
              "         [1.85991101e-125, 2.49352028e-125, 2.49351997e-125, ...,\n",
              "          1.15423897e-191, 1.15423897e-191, 8.60944096e-192],\n",
              "         [0.00000000e+000, 0.00000000e+000, 0.00000000e+000, ...,\n",
              "          0.00000000e+000, 0.00000000e+000, 0.00000000e+000],\n",
              "         ...,\n",
              "         [3.55729275e-218, 4.76914373e-218, 4.76914407e-218, ...,\n",
              "          4.50609960e-027, 4.50609960e-027, 3.36108896e-027],\n",
              "         [4.60828115e-052, 6.17816847e-052, 6.17816847e-052, ...,\n",
              "          1.93402896e-243, 1.93402896e-243, 1.44258760e-243],\n",
              "         [0.00000000e+000, 0.00000000e+000, 0.00000000e+000, ...,\n",
              "          0.00000000e+000, 0.00000000e+000, 0.00000000e+000]]),\n",
              "  array([[3.22632934e-043, 4.32543188e-043, 4.32543188e-043, ...,\n",
              "          9.60010314e-224, 9.60010310e-224, 7.16069401e-224],\n",
              "         [1.85991101e-125, 2.49352028e-125, 2.49351997e-125, ...,\n",
              "          1.15423897e-191, 1.15423897e-191, 8.60944096e-192],\n",
              "         [0.00000000e+000, 0.00000000e+000, 0.00000000e+000, ...,\n",
              "          0.00000000e+000, 0.00000000e+000, 0.00000000e+000],\n",
              "         ...,\n",
              "         [3.55729275e-218, 4.76914373e-218, 4.76914407e-218, ...,\n",
              "          4.50609960e-027, 4.50609960e-027, 3.36108896e-027],\n",
              "         [4.60828115e-052, 6.17816847e-052, 6.17816847e-052, ...,\n",
              "          1.93402896e-243, 1.93402896e-243, 1.44258760e-243],\n",
              "         [0.00000000e+000, 0.00000000e+000, 0.00000000e+000, ...,\n",
              "          0.00000000e+000, 0.00000000e+000, 0.00000000e+000]]),\n",
              "  array([[3.22632934e-043, 4.32543188e-043, 4.32543188e-043, ...,\n",
              "          9.60010314e-224, 9.60010310e-224, 7.16069401e-224],\n",
              "         [1.85991101e-125, 2.49352028e-125, 2.49351997e-125, ...,\n",
              "          1.15423897e-191, 1.15423897e-191, 8.60944096e-192],\n",
              "         [0.00000000e+000, 0.00000000e+000, 0.00000000e+000, ...,\n",
              "          0.00000000e+000, 0.00000000e+000, 0.00000000e+000],\n",
              "         ...,\n",
              "         [3.55729275e-218, 4.76914373e-218, 4.76914407e-218, ...,\n",
              "          4.50609960e-027, 4.50609960e-027, 3.36108896e-027],\n",
              "         [4.60828115e-052, 6.17816847e-052, 6.17816847e-052, ...,\n",
              "          1.93402896e-243, 1.93402896e-243, 1.44258760e-243],\n",
              "         [0.00000000e+000, 0.00000000e+000, 0.00000000e+000, ...,\n",
              "          0.00000000e+000, 0.00000000e+000, 0.00000000e+000]]),\n",
              "  array([[3.22632934e-043, 4.32543188e-043, 4.32543188e-043, ...,\n",
              "          9.60010314e-224, 9.60010310e-224, 7.16069401e-224],\n",
              "         [1.85991101e-125, 2.49352028e-125, 2.49351997e-125, ...,\n",
              "          1.15423897e-191, 1.15423897e-191, 8.60944096e-192],\n",
              "         [0.00000000e+000, 0.00000000e+000, 0.00000000e+000, ...,\n",
              "          0.00000000e+000, 0.00000000e+000, 0.00000000e+000],\n",
              "         ...,\n",
              "         [3.55729275e-218, 4.76914373e-218, 4.76914407e-218, ...,\n",
              "          4.50609960e-027, 4.50609960e-027, 3.36108896e-027],\n",
              "         [4.60828115e-052, 6.17816847e-052, 6.17816847e-052, ...,\n",
              "          1.93402896e-243, 1.93402896e-243, 1.44258760e-243],\n",
              "         [0.00000000e+000, 0.00000000e+000, 0.00000000e+000, ...,\n",
              "          0.00000000e+000, 0.00000000e+000, 0.00000000e+000]]),\n",
              "  array([[3.22632934e-043, 4.32543188e-043, 4.32543188e-043, ...,\n",
              "          9.60010314e-224, 9.60010310e-224, 7.16069401e-224],\n",
              "         [1.85991101e-125, 2.49352028e-125, 2.49351997e-125, ...,\n",
              "          1.15423897e-191, 1.15423897e-191, 8.60944096e-192],\n",
              "         [0.00000000e+000, 0.00000000e+000, 0.00000000e+000, ...,\n",
              "          0.00000000e+000, 0.00000000e+000, 0.00000000e+000],\n",
              "         ...,\n",
              "         [3.55729275e-218, 4.76914373e-218, 4.76914407e-218, ...,\n",
              "          4.50609960e-027, 4.50609960e-027, 3.36108896e-027],\n",
              "         [4.60828115e-052, 6.17816847e-052, 6.17816847e-052, ...,\n",
              "          1.93402896e-243, 1.93402896e-243, 1.44258760e-243],\n",
              "         [0.00000000e+000, 0.00000000e+000, 0.00000000e+000, ...,\n",
              "          0.00000000e+000, 0.00000000e+000, 0.00000000e+000]]),\n",
              "  array([[3.22632934e-043, 4.32543188e-043, 4.32543188e-043, ...,\n",
              "          9.60010314e-224, 9.60010310e-224, 7.16069401e-224],\n",
              "         [1.85991101e-125, 2.49352028e-125, 2.49351997e-125, ...,\n",
              "          1.15423897e-191, 1.15423897e-191, 8.60944096e-192],\n",
              "         [0.00000000e+000, 0.00000000e+000, 0.00000000e+000, ...,\n",
              "          0.00000000e+000, 0.00000000e+000, 0.00000000e+000],\n",
              "         ...,\n",
              "         [3.55729275e-218, 4.76914373e-218, 4.76914407e-218, ...,\n",
              "          4.50609960e-027, 4.50609960e-027, 3.36108896e-027],\n",
              "         [4.60828115e-052, 6.17816847e-052, 6.17816847e-052, ...,\n",
              "          1.93402896e-243, 1.93402896e-243, 1.44258760e-243],\n",
              "         [0.00000000e+000, 0.00000000e+000, 0.00000000e+000, ...,\n",
              "          0.00000000e+000, 0.00000000e+000, 0.00000000e+000]]),\n",
              "  array([[3.22632934e-043, 4.32543188e-043, 4.32543188e-043, ...,\n",
              "          9.60010314e-224, 9.60010310e-224, 7.16069401e-224],\n",
              "         [1.85991101e-125, 2.49352028e-125, 2.49351997e-125, ...,\n",
              "          1.15423897e-191, 1.15423897e-191, 8.60944096e-192],\n",
              "         [0.00000000e+000, 0.00000000e+000, 0.00000000e+000, ...,\n",
              "          0.00000000e+000, 0.00000000e+000, 0.00000000e+000],\n",
              "         ...,\n",
              "         [3.55729275e-218, 4.76914373e-218, 4.76914407e-218, ...,\n",
              "          4.50609960e-027, 4.50609960e-027, 3.36108896e-027],\n",
              "         [4.60828115e-052, 6.17816847e-052, 6.17816847e-052, ...,\n",
              "          1.93402896e-243, 1.93402896e-243, 1.44258760e-243],\n",
              "         [0.00000000e+000, 0.00000000e+000, 0.00000000e+000, ...,\n",
              "          0.00000000e+000, 0.00000000e+000, 0.00000000e+000]])],\n",
              " array([[0.69804799, 0.338117  , 0.59988499, 0.196326  ],\n",
              "        [0.69333409, 0.38518561, 0.57777841, 0.1925928 ],\n",
              "        [0.80641965, 0.54278246, 0.23262105, 0.03101614],\n",
              "        [0.71171214, 0.35002236, 0.57170319, 0.21001342],\n",
              "        [0.69417747, 0.30370264, 0.60740528, 0.2386235 ],\n",
              "        [0.72460233, 0.37623583, 0.54345175, 0.19508524],\n",
              "        [0.8068282 , 0.53788547, 0.24063297, 0.04246464],\n",
              "        [0.70779525, 0.31850786, 0.60162596, 0.1887454 ],\n",
              "        [0.73923462, 0.37588201, 0.52623481, 0.187941  ],\n",
              "        [0.76262994, 0.34186859, 0.52595168, 0.1577855 ],\n",
              "        [0.71718148, 0.31640359, 0.58007326, 0.22148252],\n",
              "        [0.80533308, 0.54831188, 0.2227517 , 0.03426949],\n",
              "        [0.73337886, 0.32948905, 0.54206264, 0.24445962],\n",
              "        [0.78889479, 0.55222635, 0.25244633, 0.09466737],\n",
              "        [0.80373519, 0.55070744, 0.22325977, 0.02976797],\n",
              "        [0.76923077, 0.30769231, 0.53846154, 0.15384615],\n",
              "        [0.70610474, 0.3258945 , 0.59747324, 0.1955367 ],\n",
              "        [0.68914871, 0.33943145, 0.58629069, 0.25714504],\n",
              "        [0.72712585, 0.26661281, 0.60593821, 0.18178146],\n",
              "        [0.71414125, 0.26647062, 0.61821183, 0.19185884],\n",
              "        [0.76185188, 0.34011245, 0.53057542, 0.14964948],\n",
              "        [0.73154399, 0.28501714, 0.57953485, 0.21851314],\n",
              "        [0.72634846, 0.38046824, 0.54187901, 0.18446945],\n",
              "        [0.76521855, 0.33391355, 0.52869645, 0.15304371],\n",
              "        [0.73122464, 0.31338199, 0.56873028, 0.20892133],\n",
              "        [0.72366005, 0.32162669, 0.58582004, 0.17230001],\n",
              "        [0.67054118, 0.34211284, 0.61580312, 0.23263673],\n",
              "        [0.72965359, 0.28954508, 0.57909015, 0.22005426],\n",
              "        [0.76701103, 0.35063361, 0.51499312, 0.15340221],\n",
              "        [0.71653899, 0.3307103 , 0.57323119, 0.22047353],\n",
              "        [0.71524936, 0.40530797, 0.53643702, 0.19073316],\n",
              "        [0.80846584, 0.52213419, 0.26948861, 0.03368608],\n",
              "        [0.69052512, 0.32145135, 0.60718588, 0.22620651],\n",
              "        [0.73544284, 0.35458851, 0.55158213, 0.1707278 ],\n",
              "        [0.75911707, 0.3931142 , 0.48800383, 0.17622361],\n",
              "        [0.74714194, 0.33960997, 0.54337595, 0.17659719],\n",
              "        [0.73260391, 0.36029701, 0.55245541, 0.1681386 ],\n",
              "        [0.71529453, 0.31790868, 0.59607878, 0.17882363],\n",
              "        [0.79837025, 0.55735281, 0.22595384, 0.03012718],\n",
              "        [0.8025126 , 0.55989251, 0.20529392, 0.01866308],\n",
              "        [0.71576546, 0.30196356, 0.59274328, 0.21249287],\n",
              "        [0.73239618, 0.38547167, 0.53966034, 0.15418867],\n",
              "        [0.8173379 , 0.51462016, 0.25731008, 0.03027177],\n",
              "        [0.77381111, 0.59732787, 0.2036345 , 0.05430253],\n",
              "        [0.75519285, 0.33928954, 0.53629637, 0.16417236],\n",
              "        [0.80003025, 0.53915082, 0.26087943, 0.03478392],\n",
              "        [0.69025916, 0.35097923, 0.5966647 , 0.21058754],\n",
              "        [0.78258054, 0.38361791, 0.4603415 , 0.16879188],\n",
              "        [0.78010936, 0.57660257, 0.23742459, 0.0508767 ],\n",
              "        [0.76444238, 0.27125375, 0.55483721, 0.18494574],\n",
              "        [0.69198788, 0.34599394, 0.58626751, 0.24027357],\n",
              "        [0.73446047, 0.37367287, 0.5411814 , 0.16750853],\n",
              "        [0.82307218, 0.51442011, 0.24006272, 0.01714734],\n",
              "        [0.71491405, 0.30207636, 0.59408351, 0.21145345],\n",
              "        [0.70558934, 0.32722984, 0.58287815, 0.23519645],\n",
              "        [0.68619022, 0.31670318, 0.61229281, 0.232249  ],\n",
              "        [0.69594002, 0.30447376, 0.60894751, 0.22835532],\n",
              "        [0.77729093, 0.57915795, 0.24385598, 0.030482  ],\n",
              "        [0.786991  , 0.55745196, 0.26233033, 0.03279129],\n",
              "        [0.71562645, 0.3523084 , 0.56149152, 0.22019275],\n",
              "        [0.69595601, 0.3427843 , 0.59208198, 0.21813547],\n",
              "        [0.86093857, 0.44003527, 0.24871559, 0.0573959 ],\n",
              "        [0.67467072, 0.36998072, 0.58761643, 0.25028107],\n",
              "        [0.82813287, 0.50702013, 0.23660939, 0.03380134],\n",
              "        [0.6925518 , 0.30375079, 0.60750157, 0.24300063],\n",
              "        [0.72415258, 0.32534391, 0.56672811, 0.22039426],\n",
              "        [0.78609038, 0.57170209, 0.23225397, 0.03573138],\n",
              "        [0.790965  , 0.5694948 , 0.2214702 , 0.0316386 ],\n",
              "        [0.73089855, 0.30454106, 0.58877939, 0.1624219 ],\n",
              "        [0.80327412, 0.55126656, 0.22050662, 0.04725142],\n",
              "        [0.80212413, 0.54690282, 0.23699122, 0.03646019],\n",
              "        [0.78417499, 0.5663486 , 0.2468699 , 0.05808704],\n",
              "        [0.75384916, 0.31524601, 0.54825394, 0.17818253],\n",
              "        [0.69193502, 0.32561648, 0.60035539, 0.23403685],\n",
              "        [0.70953708, 0.28008043, 0.61617694, 0.1960563 ],\n",
              "        [0.80377277, 0.55160877, 0.22064351, 0.0315205 ],\n",
              "        [0.81768942, 0.51731371, 0.25031309, 0.03337508],\n",
              "        [0.81609427, 0.5336001 , 0.21971769, 0.03138824],\n",
              "        [0.72232962, 0.35482858, 0.57026022, 0.16474184],\n",
              "        [0.76785726, 0.34902603, 0.51190484, 0.16287881],\n",
              "        [0.82512295, 0.52807869, 0.19802951, 0.03300492],\n",
              "        [0.80597792, 0.52151512, 0.26865931, 0.07901744],\n",
              "        [0.76741698, 0.34773582, 0.51560829, 0.15588157],\n",
              "        [0.82225028, 0.51771314, 0.22840286, 0.06090743],\n",
              "        [0.70600618, 0.2383917 , 0.63265489, 0.21088496],\n",
              "        [0.75916547, 0.37183615, 0.51127471, 0.15493173],\n",
              "        [0.71578999, 0.34430405, 0.5798805 , 0.18121266],\n",
              "        [0.76945444, 0.35601624, 0.50531337, 0.16078153],\n",
              "        [0.76578311, 0.60379053, 0.22089897, 0.0147266 ],\n",
              "        [0.71066905, 0.35533453, 0.56853524, 0.21320072],\n",
              "        [0.81120865, 0.55945424, 0.16783627, 0.02797271],\n",
              "        [0.71486543, 0.25995106, 0.62202576, 0.18567933],\n",
              "        [0.77964883, 0.58091482, 0.22930848, 0.0458617 ],\n",
              "        [0.79524064, 0.54144043, 0.27072022, 0.03384003],\n",
              "        [0.72766159, 0.27533141, 0.59982915, 0.18683203],\n",
              "        [0.81228363, 0.5361072 , 0.22743942, 0.03249135],\n",
              "        [0.67017484, 0.36168166, 0.59571097, 0.2553047 ],\n",
              "        [0.7431482 , 0.36505526, 0.5345452 , 0.16948994],\n",
              "        [0.76434981, 0.35581802, 0.51395936, 0.15814134],\n",
              "        [0.78667474, 0.35883409, 0.48304589, 0.13801311],\n",
              "        [0.69589887, 0.34794944, 0.57629125, 0.25008866],\n",
              "        [0.72155725, 0.32308533, 0.56001458, 0.24769876],\n",
              "        [0.74143307, 0.29421947, 0.57667016, 0.17653168],\n",
              "        [0.74088576, 0.33173989, 0.55289982, 0.18798594],\n",
              "        [0.82647451, 0.4958847 , 0.26447184, 0.03305898],\n",
              "        [0.77242925, 0.33706004, 0.51963422, 0.14044168],\n",
              "        [0.69997037, 0.32386689, 0.58504986, 0.25073566],\n",
              "        [0.69052512, 0.32145135, 0.60718588, 0.22620651],\n",
              "        [0.80779568, 0.53853046, 0.23758697, 0.03167826],\n",
              "        [0.76301853, 0.33526572, 0.53180079, 0.15029153],\n",
              "        [0.72992443, 0.39103094, 0.53440896, 0.16944674],\n",
              "        [0.6985796 , 0.37889063, 0.56833595, 0.21312598],\n",
              "        [0.77530021, 0.28304611, 0.54147951, 0.15998258],\n",
              "        [0.82699754, 0.52627116, 0.19547215, 0.03007264],\n",
              "        [0.78591858, 0.57017622, 0.23115252, 0.06164067],\n",
              "        [0.81803119, 0.51752994, 0.25041771, 0.01669451],\n",
              "        [0.69276796, 0.31889319, 0.61579374, 0.1979337 ],\n",
              "        [0.75676497, 0.35228714, 0.53495455, 0.13047672],\n",
              "        [0.69299099, 0.34199555, 0.60299216, 0.19799743],\n",
              "        [0.79594782, 0.55370283, 0.24224499, 0.03460643]]))"
            ]
          },
          "metadata": {
            "tags": []
          },
          "execution_count": 38
        }
      ]
    },
    {
      "cell_type": "code",
      "metadata": {
        "id": "CVDOlY0zwxsu"
      },
      "source": [
        "l=0\n",
        "i=0\n",
        "for lay in S.layers:\n",
        "    l+=1\n",
        "    #i\n",
        "    \"\"\" A COMPLETER \"\"\"\n",
        "    mi = lay.dist(data[i], data[i+1])\n",
        "    ma = lay.dist(data[i], data[i+1])\n",
        "    index = np.mean(mi/ma)\n",
        "    print(\"Couche \",l,\": score = \", round(index,3))\n",
        "    i+=2\n",
        "\n",
        "# Visualisation des représentations des données en sortie du réseau\n",
        "\"\"\" A COMPLETER\n",
        "bone()\n",
        "pcolor(som.distance_map().T)\n",
        "colorbar()\n",
        "markers = ['o', 's']\n",
        "colors = ['r', 'g']\n",
        "for i, x in enumerate(X):\n",
        "    w = som.winner(x)\n",
        "    plot(w[0] + 0.5,\n",
        "         w[1] + 0.5,\n",
        "         markers[y[i]],\n",
        "         markeredgecolor=colors[y[i]],\n",
        "         markerfacecolor='None',\n",
        "         markersize=10,\n",
        "         markeredgewidth=2)\n",
        "show()\n",
        " \"\"\""
      ],
      "execution_count": null,
      "outputs": []
    },
    {
      "cell_type": "code",
      "metadata": {
        "id": "WkmfyNpbu5zr"
      },
      "source": [
        ""
      ],
      "execution_count": 14,
      "outputs": []
    },
    {
      "cell_type": "code",
      "metadata": {
        "id": "UGg7TSWxu63F"
      },
      "source": [
        ""
      ],
      "execution_count": null,
      "outputs": []
    }
  ]
}